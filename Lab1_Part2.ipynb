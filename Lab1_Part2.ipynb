{
  "nbformat": 4,
  "nbformat_minor": 0,
  "metadata": {
    "colab": {
      "name": "Part2.ipynb",
      "provenance": [],
      "collapsed_sections": []
    },
    "kernelspec": {
      "name": "python3",
      "display_name": "Python 3"
    },
    "language_info": {
      "name": "python"
    }
  },
  "cells": [
    {
      "cell_type": "code",
      "source": [
        "# COMP 8347 - Internet Applications and Distributed Systems : Lab Assignment - I\n",
        "\n",
        "# Team Details:\n",
        "# 1. Abinaya Elanchezhian – 110061220\n",
        "# 2. Eswaran Badrinarayanan Venkateswaran – 110069235\n",
        "# 3. Lakshmi Narayanan Shankar – 110070078\n",
        "# 4. Vishal Jayaraman – 110067134"
      ],
      "metadata": {
        "id": "h7H7ilAwFoN4"
      },
      "execution_count": null,
      "outputs": []
    },
    {
      "cell_type": "code",
      "source": [
        "from google.colab import files\n",
        "uploaded = files.upload()"
      ],
      "metadata": {
        "id": "YPbG7yltfyDG",
        "colab": {
          "resources": {
            "http://localhost:8080/nbextensions/google.colab/files.js": {
              "data": "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",
              "ok": true,
              "headers": [
                [
                  "content-type",
                  "application/javascript"
                ]
              ],
              "status": 200,
              "status_text": ""
            }
          },
          "base_uri": "https://localhost:8080/",
          "height": 73
        },
        "outputId": "6b98f4ff-3376-4f50-a570-ea769242c158"
      },
      "execution_count": null,
      "outputs": [
        {
          "output_type": "display_data",
          "data": {
            "text/plain": [
              "<IPython.core.display.HTML object>"
            ],
            "text/html": [
              "\n",
              "     <input type=\"file\" id=\"files-a9e237ff-0467-4be5-9837-96b23a13c9b5\" name=\"files[]\" multiple disabled\n",
              "        style=\"border:none\" />\n",
              "     <output id=\"result-a9e237ff-0467-4be5-9837-96b23a13c9b5\">\n",
              "      Upload widget is only available when the cell has been executed in the\n",
              "      current browser session. Please rerun this cell to enable.\n",
              "      </output>\n",
              "      <script src=\"/nbextensions/google.colab/files.js\"></script> "
            ]
          },
          "metadata": {}
        },
        {
          "output_type": "stream",
          "name": "stdout",
          "text": [
            "Saving inventory.txt to inventory.txt\n"
          ]
        }
      ]
    },
    {
      "cell_type": "code",
      "source": [
        "#@title Question a\n",
        "\n"
      ],
      "metadata": {
        "id": "XjyAVN26pEoH"
      },
      "execution_count": null,
      "outputs": []
    },
    {
      "cell_type": "code",
      "execution_count": null,
      "metadata": {
        "id": "HBpaO5nDW638",
        "colab": {
          "base_uri": "https://localhost:8080/"
        },
        "outputId": "fb7b4e18-dbc8-4d39-991e-c34e743a56cb"
      },
      "outputs": [
        {
          "output_type": "stream",
          "name": "stdout",
          "text": [
            "skimmed milk\n",
            "10\n",
            "\n",
            "chips\n",
            "20\n",
            "\n",
            "olive oil\n",
            "10\n",
            "\n",
            "biscuits\n",
            "30\n",
            "\n",
            "pasta\n",
            "12\n",
            "\n",
            "cheese\n",
            "15\n",
            "\n",
            "bread\n",
            "30\n",
            "\n",
            "orange juise \n",
            "10\n",
            "\n",
            "fullcream milk\n",
            "15\n",
            "\n",
            "rice\n",
            "40\n",
            "\n",
            "whole chiken\n",
            "30\n",
            "\n",
            "toothpaste\n",
            "20\n",
            "\n",
            "hand soap\n",
            "8\n",
            "\n",
            "cereal box\n",
            "30\n",
            "\n",
            "water bottle\n",
            "40\n",
            "\n",
            "detergent powder\n",
            "20\n",
            "\n",
            "honey\n",
            "15\n",
            "\n",
            "butter\n",
            "7\n",
            "\n",
            "cake\n",
            "12\n",
            "\n",
            "cookies\n",
            "40\n",
            "\n",
            "chocolate bar\n",
            "18\n",
            "\n",
            "crackers\n",
            "25\n",
            "\n",
            "tomato paste\n",
            "10\n",
            "\n",
            "salt \n",
            "15\n",
            "\n",
            "sugar\n",
            "28\n",
            "\n",
            "white mushrooms\n",
            "10\n",
            "\n",
            "coffee\n",
            "14\n",
            "\n",
            "green beans\n",
            "12\n",
            "\n",
            "green tea\n",
            "10\n",
            "\n",
            "nutella\n",
            "8\n"
          ]
        }
      ],
      "source": [
        "# opening file \"inventory.txt\"\n",
        "f = open(\"inventory.txt\", \"r\") \n",
        "# printing the read contents of the file\n",
        "print(f.read())"
      ]
    },
    {
      "cell_type": "code",
      "source": [
        "#@title Question b"
      ],
      "metadata": {
        "id": "gq1Jzta0p6oj"
      },
      "execution_count": null,
      "outputs": []
    },
    {
      "cell_type": "code",
      "source": [
        "# Defining 10 strings that represent a particular product\n",
        "productList = {'nutella', 'donut', 'green tea', 'black tea', 'coffee', 'black coffee', 'white mushrooms', 'magic mushrooms', 'cookies', 'tea biscuits'}\n",
        "productList"
      ],
      "metadata": {
        "id": "7AsrXw0bp-We",
        "colab": {
          "base_uri": "https://localhost:8080/"
        },
        "outputId": "d1c43d51-5070-467a-f7f3-34515b7bb1e7"
      },
      "execution_count": null,
      "outputs": [
        {
          "output_type": "execute_result",
          "data": {
            "text/plain": [
              "{'black coffee',\n",
              " 'black tea',\n",
              " 'coffee',\n",
              " 'cookies',\n",
              " 'donut',\n",
              " 'green tea',\n",
              " 'magic mushrooms',\n",
              " 'nutella',\n",
              " 'tea biscuits',\n",
              " 'white mushrooms'}"
            ]
          },
          "metadata": {},
          "execution_count": 5
        }
      ]
    },
    {
      "cell_type": "code",
      "source": [
        "#@title Question c"
      ],
      "metadata": {
        "id": "_YVfDXL1sl8d"
      },
      "execution_count": null,
      "outputs": []
    },
    {
      "cell_type": "code",
      "source": [
        "# Looping over each item in the productList\n",
        "for x in productList:\n",
        "    # Opening the file in read mode\n",
        "    fp = open('inventory.txt', 'r')\n",
        "    # The variable a is the exit condition or flag for the while loop \n",
        "    a = True  \n",
        "    while a:\n",
        "      # Reading each and every string present in the line using readline() function and storing it in data\n",
        "      data = fp.readline()\n",
        "      # Checking if item x in productList matches data (every line read) and if there is a match, the item is printed: else the loop continues \n",
        "      if x in data:\n",
        "       print(x) \n",
        "      # If the data reaches the end of file, then the loop terminates with the exit condition a = false\n",
        "      if not data:\n",
        "        a = False"
      ],
      "metadata": {
        "colab": {
          "base_uri": "https://localhost:8080/"
        },
        "id": "pXwSLOlhttug",
        "outputId": "672e71d4-2a68-44a7-bed8-5442d21e0112"
      },
      "execution_count": null,
      "outputs": [
        {
          "output_type": "stream",
          "name": "stdout",
          "text": [
            "white mushrooms\n",
            "coffee\n",
            "nutella\n",
            "green tea\n",
            "cookies\n"
          ]
        }
      ]
    },
    {
      "cell_type": "code",
      "source": [
        "#@title Question d"
      ],
      "metadata": {
        "id": "z_ii-sNzt4u8"
      },
      "execution_count": null,
      "outputs": []
    },
    {
      "cell_type": "code",
      "source": [
        "# Creating a list 'lst' for storing each matched items in the productList\n",
        "lst=[]\n",
        "for x in productList:\n",
        "    fp = open('inventory.txt', 'r')\n",
        "    a = True  \n",
        "    while a:\n",
        "      data = fp.readline()\n",
        "      # Checking if x in productList matches with data in inventory.txt\n",
        "      if x in data:\n",
        "        # Appending each matched item in the list 'lst'\n",
        "        lst.append(x)\n",
        "      if not data:\n",
        "        a = False\n",
        "# Printing the list \n",
        "lst"
      ],
      "metadata": {
        "colab": {
          "base_uri": "https://localhost:8080/"
        },
        "id": "F_4AKd0ojS7Z",
        "outputId": "335698d4-b1b0-48b0-d30e-e50bc042e5bf"
      },
      "execution_count": null,
      "outputs": [
        {
          "output_type": "execute_result",
          "data": {
            "text/plain": [
              "['white mushrooms', 'coffee', 'nutella', 'green tea', 'cookies']"
            ]
          },
          "metadata": {},
          "execution_count": 7
        }
      ]
    },
    {
      "cell_type": "code",
      "source": [
        "#@title Question e"
      ],
      "metadata": {
        "id": "iD3X7z1x1viE"
      },
      "execution_count": null,
      "outputs": []
    },
    {
      "cell_type": "code",
      "source": [
        "# Creating a dictionary k \n",
        "k={}\n",
        "for x in productList:\n",
        "    fp = open('inventory.txt', 'r')\n",
        "    a = True  \n",
        "    while a:\n",
        "      \n",
        "      data = fp.readline()\n",
        "      if x in data:\n",
        "        # Using strip() function to remove newline character (\"\\n\") from the data variable\n",
        "        # Using readline () function to read the quantity value from the next line\n",
        "        # data is the key of datatype string in dict k \n",
        "        # readline() function will return the value (quantity) from inventory.txt and assigns it as a key-value pair - k{Product_key,Quantity_value}\n",
        "        k[str(data.strip())]=int(fp.readline())\n",
        "      if not data:\n",
        "        a = False\n",
        "# Printing the dictionary       \n",
        "k"
      ],
      "metadata": {
        "colab": {
          "base_uri": "https://localhost:8080/"
        },
        "id": "rKRLONwovpJx",
        "outputId": "29c11d97-80d8-456d-be32-9aba53e3d5be"
      },
      "execution_count": 50,
      "outputs": [
        {
          "output_type": "execute_result",
          "data": {
            "text/plain": [
              "{'coffee': 14,\n",
              " 'cookies': 40,\n",
              " 'green tea': 10,\n",
              " 'nutella': 8,\n",
              " 'white mushrooms': 10}"
            ]
          },
          "metadata": {},
          "execution_count": 50
        }
      ]
    },
    {
      "cell_type": "code",
      "source": [
        "\n",
        "# Converting the productList as a dictionary \n",
        "d1=dict.fromkeys(productList)\n",
        "d1\n"
      ],
      "metadata": {
        "colab": {
          "base_uri": "https://localhost:8080/"
        },
        "id": "gHDMxcGPwEyk",
        "outputId": "4494f22c-1d94-43d5-d64d-543884646d2e"
      },
      "execution_count": 52,
      "outputs": [
        {
          "output_type": "execute_result",
          "data": {
            "text/plain": [
              "{'black coffee': None,\n",
              " 'black tea': None,\n",
              " 'coffee': None,\n",
              " 'cookies': None,\n",
              " 'donut': None,\n",
              " 'green tea': None,\n",
              " 'magic mushrooms': None,\n",
              " 'nutella': None,\n",
              " 'tea biscuits': None,\n",
              " 'white mushrooms': None}"
            ]
          },
          "metadata": {},
          "execution_count": 52
        }
      ]
    },
    {
      "cell_type": "code",
      "source": [
        "\n",
        "# Updating the dictionary d1 with the quantity value k\n",
        "d1.update(k)"
      ],
      "metadata": {
        "id": "NvBiOIEXzqSB"
      },
      "execution_count": 53,
      "outputs": []
    },
    {
      "cell_type": "code",
      "source": [
        "d1"
      ],
      "metadata": {
        "colab": {
          "base_uri": "https://localhost:8080/"
        },
        "id": "4Z4qqeuSxKg_",
        "outputId": "7fa0643a-c5c9-4191-a362-711433413901"
      },
      "execution_count": 54,
      "outputs": [
        {
          "output_type": "execute_result",
          "data": {
            "text/plain": [
              "{'black coffee': None,\n",
              " 'black tea': None,\n",
              " 'coffee': 14,\n",
              " 'cookies': 40,\n",
              " 'donut': None,\n",
              " 'green tea': 10,\n",
              " 'magic mushrooms': None,\n",
              " 'nutella': 8,\n",
              " 'tea biscuits': None,\n",
              " 'white mushrooms': 10}"
            ]
          },
          "metadata": {},
          "execution_count": 54
        }
      ]
    },
    {
      "cell_type": "code",
      "source": [
        "# Creating a dict d2 to pass a new key value pair{\"magic mushrooms\": \"2\"} to the dict d1\n",
        "d2={}\n",
        "d2[\"magic mushrooms\"]=2\n",
        "d1.update(d2)\n",
        "d1"
      ],
      "metadata": {
        "colab": {
          "base_uri": "https://localhost:8080/"
        },
        "id": "S7hffelknYrI",
        "outputId": "c7f90b83-eea3-4a72-9c33-972d7164ae6c"
      },
      "execution_count": 23,
      "outputs": [
        {
          "output_type": "execute_result",
          "data": {
            "text/plain": [
              "{'black coffee': None,\n",
              " 'black tea': None,\n",
              " 'coffee': None,\n",
              " 'cookies': None,\n",
              " 'donut': None,\n",
              " 'green tea': None,\n",
              " 'magic mushrooms': 2,\n",
              " 'nutella': None,\n",
              " 'tea biscuits': None,\n",
              " 'white mushrooms': None}"
            ]
          },
          "metadata": {},
          "execution_count": 23
        }
      ]
    },
    {
      "cell_type": "code",
      "source": [
        "#@title Question f "
      ],
      "metadata": {
        "id": "UhnO6SrS1ost"
      },
      "execution_count": null,
      "outputs": []
    },
    {
      "cell_type": "code",
      "source": [
        "a = True\n",
        "while a:\n",
        "  # Getting user input (string)\n",
        "  s = input()\n",
        "  # Checking if user input is in the dict d1\n",
        "  if s in d1:\n",
        "    # If there is a match, then the value (quantity) of the dict d1 is printed\n",
        "    print(d1[s])\n",
        "  else:\n",
        "    print(\"Not found\")\n",
        "  print(\"want to search again?\")\n",
        "  # Getting user input to continue search or not\n",
        "  flag = input()\n",
        "  if flag != 'yes':\n",
        "    a = False\n"
      ],
      "metadata": {
        "colab": {
          "base_uri": "https://localhost:8080/"
        },
        "id": "K8S-__qYyswa",
        "outputId": "77713554-87fc-4f8f-cfdf-376940ee1700"
      },
      "execution_count": null,
      "outputs": [
        {
          "name": "stdout",
          "output_type": "stream",
          "text": [
            "nutella\n",
            "8\n",
            "want to search again?\n",
            "yes\n",
            "black tea\n",
            "None\n",
            "want to search again?\n",
            "no\n"
          ]
        }
      ]
    },
    {
      "cell_type": "code",
      "source": [
        "#@title Question g"
      ],
      "metadata": {
        "id": "cu4DVepp1IRk"
      },
      "execution_count": null,
      "outputs": []
    },
    {
      "cell_type": "code",
      "source": [
        "a = True\n",
        "while a:\n",
        "  # Getting user input (string)\n",
        "  s = input()\n",
        "  # Checking if the exception is created using try and if one is created, the except block is executed\n",
        "  try:\n",
        "    print(d1[s])\n",
        "  except:\n",
        "    # Printing the exception message\n",
        "    print(\"Not found\")\n",
        "  # Prompting the user to conduct a new search or not\n",
        "  print(\"want to search again?\")\n",
        "  # Storing the user input into a flag variable\n",
        "  flag = input()\n",
        "  if flag != 'yes':\n",
        "    a = False\n"
      ],
      "metadata": {
        "colab": {
          "base_uri": "https://localhost:8080/"
        },
        "id": "8OMDTcVs13qh",
        "outputId": "cf3220bd-65a6-4bfe-bbff-d6094b4dbaa7"
      },
      "execution_count": null,
      "outputs": [
        {
          "name": "stdout",
          "output_type": "stream",
          "text": [
            "sidnvis\n",
            "Not found\n",
            "want to search again?\n",
            "yes\n",
            "nutella\n",
            "8\n",
            "want to search again?\n",
            "no\n"
          ]
        }
      ]
    }
  ]
}